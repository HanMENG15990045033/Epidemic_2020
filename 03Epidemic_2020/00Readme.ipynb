{
 "cells": [
  {
   "cell_type": "markdown",
   "metadata": {},
   "source": [
    "## README\n",
    "\n",
    "总感觉这个`Readme`跟天津话的`嗦了蜜`有异曲同工之妙"
   ]
  },
  {
   "cell_type": "markdown",
   "metadata": {},
   "source": [
    "## 内容：\n",
    "\n",
    "数据处理与可视化实例"
   ]
  },
  {
   "cell_type": "markdown",
   "metadata": {},
   "source": [
    "## 思路：\n",
    "\n",
    "1. API数据获取与整理\n",
    "\n",
    "2. 交互式折现图\n",
    "\n",
    "3. 经纬度匹配\n",
    "\n",
    "4. folium热力图\n",
    "\n",
    "5. folium圈圈图\n",
    "\n",
    "6. folium聚类图\n",
    "\n",
    "7. folium最炫酷但又抽风式bug的HeatMapWithTime图\n",
    "\n",
    "8. pyechart板块地图\n",
    "\n",
    "这几部分比较独立，大家可以挑着看"
   ]
  },
  {
   "cell_type": "markdown",
   "metadata": {},
   "source": [
    "## 目标效果\n",
    "\n",
    "先有几个效果展示，大家过过眼瘾\n",
    "\n",
    "如果看完了出现这种表情\n",
    "\n",
    "<div><img src=\"./img/0001.png\", width=210>\n",
    "    \n",
    "那么就可以开始了"
   ]
  },
  {
   "cell_type": "markdown",
   "metadata": {},
   "source": [
    "## 要求\n",
    "\n",
    "- python基础\n",
    "\n",
    "- pandas基础\n",
    "\n",
    "- numpy基础"
   ]
  },
  {
   "cell_type": "markdown",
   "metadata": {},
   "source": [
    "## 局限\n",
    "\n",
    "- 数据分析方面：只用数据的简单处理，没有深入核实、分析、建模、预测等工作\n",
    "\n",
    "- 可视化方面：只是库的简单应用，不是完整的系统介绍，更多信息可自行查询官网"
   ]
  },
  {
   "cell_type": "markdown",
   "metadata": {},
   "source": [
    "## 致谢\n",
    "\n",
    "- 主力：BOB、EVA、神仔\n",
    "\n",
    "- 助攻：CHENSY、阿蟹、无名、杜雨、绝世小作b、Cherish、还有群里小伙伴我可能会落下谁\n",
    "\n",
    "- 整理录制：神仔"
   ]
  },
  {
   "cell_type": "markdown",
   "metadata": {},
   "source": [
    "武汉加油！！湖北加油！！中国加油！！\n",
    "\n",
    "敕敕(赤)洋洋，日出东方，吾赐灵符，普扫不祥\n",
    "\n",
    "口吐山脉之火，符飞门摄之光\n",
    "\n",
    "提怪遍天逢历世，破瘟（温）用岁吃金刚\n",
    "\n",
    "降伏妖魔死者，化为吉祥\n",
    "\n",
    "疫情快快散去吉吉如律令！！\n",
    "\n",
    "周黑鸭热干面豆皮等着我！！"
   ]
  },
  {
   "cell_type": "markdown",
   "metadata": {},
   "source": [
    "<div><img src=\"./img/0002.png\", width=200>\n",
    "\n",
    "友情提示：\n",
    "\n",
    "- 学完千万不要爱上阿婆主\n",
    "\n",
    "- 学习虽好，可不要伤身哟~\n",
    "\n",
    "- 记得九连~\n",
    "\n"
   ]
  }
 ],
 "metadata": {
  "kernelspec": {
   "display_name": "Python 3",
   "language": "python",
   "name": "python3"
  },
  "language_info": {
   "codemirror_mode": {
    "name": "ipython",
    "version": 3
   },
   "file_extension": ".py",
   "mimetype": "text/x-python",
   "name": "python",
   "nbconvert_exporter": "python",
   "pygments_lexer": "ipython3",
   "version": "3.7.3"
  },
  "nbTranslate": {
   "displayLangs": [
    "*"
   ],
   "hotkey": "alt-t",
   "langInMainMenu": true,
   "sourceLang": "en",
   "targetLang": "fr",
   "useGoogleTranslate": true
  }
 },
 "nbformat": 4,
 "nbformat_minor": 2
}
